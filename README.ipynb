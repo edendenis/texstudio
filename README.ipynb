{
 "cells": [
  {
   "cell_type": "markdown",
   "metadata": {},
   "source": [
    "# Como instalar/configurar/usar o `TeXstudio` no `Linux Ubuntu`\n",
    "\n",
    "## Resumo\n",
    "\n",
    "Neste documento estão contidos os principais comandos e configurações para configurar/instalar/usar o `TeXstudio` no `Linux Ubuntu`.\n",
    "\n",
    "## _Abstract_\n",
    "\n",
    "_This document contains the main commands and settings for configuring/installing/use `TeXstudio` on `Linux Ubuntu`._ "
   ]
  },
  {
   "cell_type": "markdown",
   "metadata": {
    "vscode": {
     "languageId": "plaintext"
    }
   },
   "source": [
    "### Construído com\n",
    "\n",
    "Esta seção deve listar todas as principais estruturas/bibliotecas usadas para inicializar seu projeto, bem como a sequência de instalação. Deixe quaisquer complementos/plugins para a seção de agradecimentos. Aqui estão alguns exemplos.\n",
    "\n",
    "* [![Texlive](https://img.shields.io/badge/Texlive-3776AB?style=flat-square&logo=latex&logoColor=white)](https://tug.org/texlive/)\n",
    "\n",
    "* [![JabRef](https://img.shields.io/badge/JabRef-44A833?style=flat-square&logo=latex&logoColor=white)](https://www.jabref.org/)\n",
    "\n",
    "* [![Texstudio](https://img.shields.io/badge/Texstudio-008080?style=flat-square&logo=latex&logoColor=white)](https://www.texstudio.org/)\n",
    "\n",
    "* [![MathPix](https://img.shields.io/badge/MathPix-008080?style=flat-square&logo=MathPix&logoColor=white)](https://mathpix.com/)\n",
    "\n",
    "<p align=\"right\">(<a href=\"#readme-top\">voltar ao topo</a>)</p>\n"
   ]
  },
  {
   "cell_type": "markdown",
   "metadata": {},
   "source": [
    "## Descrição [2]\n",
    "\n",
    "### ``TeXstudio``\n",
    "\n",
    "O `TeXstudio` é um ambiente integrado de desenvolvimento (IDE) gratuito e de código aberto projetado especificamente para facilitar a criação e edição de documentos `LaTeX`, um sistema de composição tipográfica amplamente utilizado para produzir documentos científicos, acadêmicos e técnicos de alta qualidade. Com recursos como realce de sintaxe, correção automática, assistência de código e visualização em tempo real, o `TeXstudio` torna o processo de escrita e formatação de documentos `LaTeX` mais eficiente e acessível. Ele oferece uma interface amigável para a configuração de projetos, gerenciamento de bibliotecas de referências, bem como integração com o `TeX Live` e outras distribuições `LaTeX`, tornando-o uma escolha popular entre autores e pesquisadores que buscam uma ferramenta poderosa e conveniente para produzir documentos técnico-científicos de alta qualidade.\n",
    "\n",
    "### `Auto save all files`\n",
    "\n",
    "A função `Auto Save All Files` é um recurso presente em muitos editores de texto e ambientes de desenvolvimento que permite salvar automaticamente todas as alterações feitas em arquivos abertos em intervalos regulares ou quando o foco é perdido. Esse recurso é fundamental para evitar a perda de dados em caso de falhas inesperadas do sistema, fechamentos acidentais de aplicativos ou quedas de energia. Com o auto save, os usuários podem trabalhar com mais tranquilidade, sabendo que suas alterações estão sendo registradas automaticamente, o que também contribui para uma experiência de edição mais fluida e eficiente.\n",
    "\n",
    "### `Auto-recompile`\n",
    "\n",
    "A função `Auto-recompile` é um recurso em ambientes de desenvolvimento que permite recompilar automaticamente o código-fonte sempre que alterações são detectadas nos arquivos. Isso agiliza o processo de desenvolvimento, pois elimina a necessidade de recompilação manual, permitindo que os desenvolvedores vejam imediatamente os efeitos das mudanças no código durante a execução do programa. Esse recurso é especialmente útil em linguagens de programação que exigem compilação, proporcionando um fluxo de trabalho mais eficiente e interativo, além de facilitar a depuração e o teste de novas funcionalidades.\n",
    "\n",
    "### `Show line numbers`\n",
    "\n",
    "A função `Show Line Numbers` é um recurso presente em muitos editores de texto e ambientes de desenvolvimento que exibe números de linha ao lado do código ou texto editável. Essa funcionalidade é extremamente útil para programadores e escritores, pois facilita a navegação no documento, permitindo que os usuários se referenciem facilmente a partes específicas do texto ou código. Além disso, ao depurar ou revisar código, os números de linha ajudam a identificar rapidamente onde ocorrem erros ou onde são necessárias alterações, melhorando a eficiência do processo de desenvolvimento.\n",
    "\n",
    "### `Show whitespace`\n",
    "\n",
    "A função `Show Whitespace` é um recurso disponível em muitos editores de texto e ambientes de desenvolvimento que permite visualizar caracteres de espaço em branco, como espaços, tabulações e quebras de linha. Ao ativar essa opção, os usuários podem identificar facilmente a formatação do texto e detectar problemas de alinhamento ou espaços desnecessários que podem afetar a legibilidade ou a execução do código. Essa funcionalidade é especialmente útil para programadores e redatores, pois ajuda a manter um código limpo e organizado, além de facilitar a colaboração em projetos onde a consistência na formatação é importante.\n",
    "\n",
    "### `Line wrapping`\n",
    "\n",
    "O `L=line wrapping` refere-se à prática de ajustar automaticamente o texto para que ele se encaixe dentro dos limites de uma janela ou área designada em um editor de texto, processador de texto ou interface de usuário. Quando o texto atinge a borda da área visível, ele \"quebra\" para a linha seguinte, permitindo que o conteúdo seja legível sem a necessidade de rolagem horizontal. O `line wrapping` é especialmente útil em documentos longos ou códigos, pois melhora a legibilidade e a organização do conteúdo, facilitando a edição e revisão sem perder informações visíveis.\n"
   ]
  },
  {
   "cell_type": "markdown",
   "metadata": {},
   "source": [
    "## 1. Configurar/Instalar/Usar o `TeXstudio` no `Linux Ubuntu` [1]\n",
    "\n",
    "Para configurar/instalar/usar o `TeXstudio` no `Linux Ubuntu`, você pode seguir os seguintes passos:\n",
    "\n",
    "1. Abra o `Terminal Emulator`. Você pode fazer isso pressionando: `Ctrl + Alt + T`\n"
   ]
  },
  {
   "cell_type": "markdown",
   "metadata": {},
   "source": [
    "2. Certifique-se de que seu sistema esteja limpo e atualizado.\n",
    "\n",
    "    2.1 Limpar o `cache` do gerenciador de pacotes `apt`. Especificamente, ele remove todos os arquivos de pacotes (`.deb`) baixados pelo `apt` e armazenados em `/var/cache/apt/archives/`. Digite o seguinte comando:\n",
    "    \n",
    "    ```bash\n",
    "    sudo apt clean\n",
    "    ``` \n",
    "    \n",
    "    2.2 Remover pacotes `.deb` antigos ou duplicados do cache local. É útil para liberar espaço, pois remove apenas os pacotes que não podem mais ser baixados (ou seja, versões antigas de pacotes que foram atualizados). Digite o seguinte comando:\n",
    "    \n",
    "    ```bash\n",
    "    sudo apt autoclean\n",
    "    ```\n",
    "\n",
    "    2.3 Remover pacotes que foram automaticamente instalados para satisfazer as dependências de outros pacotes e que não são mais necessários. Digite o seguinte comando:\n",
    "    \n",
    "    ```bash\n",
    "    sudo apt autoremove -y\n",
    "    ```\n",
    "\n",
    "    2.4 Buscar as atualizações disponíveis para os pacotes que estão instalados em seu sistema. Digite o seguinte comando e pressione `Enter`: \n",
    "    \n",
    "    ```bash\n",
    "    sudo apt update\n",
    "    ```\n",
    "\n",
    "    2.5 **Corrigir pacotes quebrados**: Isso atualizará a lista de pacotes disponíveis e tentará corrigir pacotes quebrados ou com dependências ausentes:\n",
    "    \n",
    "    ```bash\n",
    "    sudo apt --fix-broken install\n",
    "    ```\n",
    "\n",
    "    2.6 Limpar o `cache` do gerenciador de pacotes `apt`. Especificamente, ele remove todos os arquivos de pacotes (`.deb`) baixados pelo `apt` e armazenados em `/var/cache/apt/archives/`. Digite o seguinte comando:\n",
    "    \n",
    "    ```bash\n",
    "    sudo apt clean\n",
    "    ``` \n",
    "    \n",
    "    2.7 Para ver a lista de pacotes a serem atualizados, digite o seguinte comando e pressione `Enter`:  \n",
    "    \n",
    "    ```bash\n",
    "    sudo apt list --upgradable\n",
    "    ```\n",
    "\n",
    "    2.8 Realmente atualizar os pacotes instalados para as suas versões mais recentes, com base na última vez que você executou `sudo apt update`. Digite o seguinte comando e pressione `Enter`:\n",
    "    \n",
    "    ```bash\n",
    "    sudo apt full-upgrade -y\n",
    "    ```"
   ]
  },
  {
   "cell_type": "markdown",
   "metadata": {},
   "source": [
    "3. **Instale o `TeXstudio`:** Você pode instalar o `TeXstudio` diretamente a partir dos repositórios oficiais do `Linux Ubuntu` usando o comando `apt`. Execute o seguinte comando para instalar:\n",
    "\n",
    "    ```bash\n",
    "    sudo apt install texstudio -y\n",
    "    ```\n",
    "\n",
    "    - O sistema pode pedir a sua senha de administrador para confirmar a instalação. Digite a senha e pressione `Enter`.\n",
    "\n",
    "    - Execute o comando a seguir para corrigir a interrupção no `dpkg`:\n",
    "    \n",
    "    ```bash\n",
    "    sudo dpkg --configure -a\n",
    "    ```\n",
    "\n",
    "- **Confirme a instalação:** Caso peça a senha, depois de digitar sua senha, o sistema perguntará se você deseja continuar com a instalação. Digite `Y` e pressione `Enter` para confirmar.\n",
    "\n",
    "    - O `TeXstudio` será baixado e instalado automaticamente no seu sistema.\n",
    "\n",
    "5. Verifique a instalação: Após a instalação ser concluída com sucesso, você pode verificar se o `TeXstudio` está instalado corretamente, executando o comando:\n",
    "\n",
    "    ```bash\n",
    "    texstudio --version\n",
    "    ```\n",
    "\n",
    "    - Isso exibirá a versão do `TeXstudio` instalada no seu sistema.\n",
    "\n",
    "Agora, você deve ter o `TeXstudio` instalado no seu `Linux Ubuntu` e pronto para ser usado para edição de documentos `LaTeX`. Você pode iniciar o `TeXstudio` a partir do menu de aplicativos ou usando o comando `TeXstudio` no `Terminal`.\n"
   ]
  },
  {
   "cell_type": "markdown",
   "metadata": {},
   "source": [
    "## 1.1 Código completo para configurar/instalar/usar o `TeXstudio` no `Linux Ubuntu` \n",
    "\n",
    "Para configurar/instalar/usar o `TeXstudio` no `Linux Ubuntu` sem precisar digitar linha por linha, você pode seguir estas etapas:\n",
    "\n",
    "1. Abra o `Terminal Emulator`. Você pode fazer isso pressionando: `Ctrl + Alt + T`\n",
    "\n",
    "2. Digite o seguinte comando e pressione `Enter`:\n",
    "\n",
    "    ```bash\n",
    "    sudo apt clean\n",
    "    sudo apt autoclean\n",
    "    sudo apt autoremove -y\n",
    "    sudo apt update\n",
    "    sudo apt --fix-broken install\n",
    "    sudo apt clean\n",
    "    sudo apt list --upgradable\n",
    "    sudo apt full-upgrade -y\n",
    "    sudo apt install texstudio -y\n",
    "    texstudio\n",
    "    texstudio --version\n",
    "    ```"
   ]
  },
  {
   "cell_type": "markdown",
   "metadata": {},
   "source": [
    "## 2. Carregar o arquivo de perfil no seu `TeXstudio`\n",
    "\n",
    "Para carregar um arquivo de configuração (como `/docs/profile_edenedfsls`) no `TeXstudio`, e evitar configurar manualmente todas as opções, você pode seguir este procedimento:\n",
    "\n",
    "1. **Baixe ou Localize o Arquivo de Configuração**: Certifique-se de que o arquivo `/docs/profile_edenedfsls` já esteja salvo em algum local acessível no seu sistema (ex: na sua pasta de documentos).\n",
    "\n",
    "2. **Abra o `TeXstudio`**.\n",
    "\n",
    "3. **Acesse as Configurações do `TeXstudio`**: No menu superior, vá para `Options > Load Profile (Carregar Perfil)`.\n",
    "\n",
    "4. **Selecione o Arquivo de Configuração**:\n",
    "\n",
    "    4.1 Uma janela será aberta para você navegar no sistema de arquivos. Encontre o arquivo `/docs/profile_edenedfsls` no local onde ele está armazenado.\n",
    "\n",
    "    4.2 Selecione a opção `Todos os arquivos` ou `All files`\n",
    "\n",
    "    4.3 Selecione o arquivo e clique em `\"Abrir\"` ou `\"Open\"`.\n",
    "\n",
    "5. **Verifique as Configurações**:\n",
    "\n",
    "    5.1 Após carregar o perfil, o `TeXstudio` aplicará automaticamente todas as configurações contidas no arquivo.\n",
    "\n",
    "    5.2 Para confirmar se as configurações foram aplicadas corretamente, vá para `Options > Configure TeXstudio` e revise as configurações. Elas devem refletir as opções configuradas no arquivo de perfil.\n",
    "\n",
    "6. **Reinicie o `TeXstudio` (se necessário)**: Em alguns casos, pode ser necessário reiniciar o `TeXstudio` para garantir que todas as configurações do perfil tenham efeito.\n",
    "\n",
    "**Como o Arquivo de Perfil Funciona**:\n",
    "\n",
    "O arquivo de perfil contém as preferências e configurações do `TeXstudio` que podem incluir opções de compilação, visualização, caminhos de bibliotecas, comportamentos de autocompletar, entre outros. Ao carregar o arquivo de perfil, essas configurações são aplicadas automaticamente, poupando o trabalho de configurar manualmente cada opção.\n",
    "\n",
    "Se o arquivo de perfil for fornecido corretamente, essa abordagem permite que você configure o `TeXstudio` de maneira rápida e consistente e **NÃO** irá precisar seguir as Seções de configuração a seguir.\n"
   ]
  },
  {
   "cell_type": "markdown",
   "metadata": {},
   "source": [
    "## 3. Habilitar o `Auto Save All Files` no `TeXstudio`\n",
    "\n",
    "Para habilitar o `Auto Save All Files` no `TeXstudio`, siga os passos abaixo:\n",
    "\n",
    "1. Abra o `TeXstudio`.\n",
    "\n",
    "2. Vá para o menu `Options` (`Opções`) no topo da janela.\n",
    "\n",
    "3. Selecione `Configure TeXstudio...` (`Configurar TeXstudio...`).\n",
    "\n",
    "4. Clique na janela de configurações, clique em `Show Advanced Options` (`Mostrar Opções Avançadas`) na canto inferior esquerdo.\n",
    "\n",
    "5. Clique na janela de configurações, clique em `Adv. Editor` (`Editor Avançado`) na barra lateral esquerda.\n",
    "\n",
    "6. Se precisar, role a barra de rolagem veritical para baixo, no painel à direita, você verá a opção `Auto Save All Files` (Auto Salvar Todos os Arquivos).\n",
    "\n",
    "7. Marque a caixa ao lado de `Auto Save All Files` para habilitar essa funcionalidade.\n",
    "\n",
    "    6.1 Você pode ajustar o intervalo de tempo para o `Auto Save All Files` de acordo com suas preferências. É recomendado colocar entre cerva de `5 minutes` a `10 minutes`, no máximo `20 minutes`, para que não fique salvando a todo momento e, ao mesmo tempo, caso o trabalho seja perdido por falta de energia elétrica, por exemplo, não será perdido todo ou muito do trabalho desenvolvido.\n",
    "\n",
    "Isso deve ativar o `AutoSave` no `TeXstudio`, garantindo que suas alterações sejam salvas automaticamente em intervalos regulares. Lembre-se de clicar em `OK` para confirmar as alterações e fechar a janela de configurações.\n"
   ]
  },
  {
   "cell_type": "markdown",
   "metadata": {},
   "source": [
    "## 4. Habilitar o `Auto-recompile` no `TeXstudio`\n",
    "\n",
    "1. Abra o ``TeXstudio``.\n",
    "\n",
    "2. Vá para o menu `Options` (`Opções`) no topo da janela.\n",
    "\n",
    "3. Selecione `Configure TeXstudio...` (`Configurar TeXstudio...`).\n",
    "\n",
    "4. Clique na janela de configurações, clique em `Internal PDF Viewer` (`Visualizador PDF Interno`) na barra lateral esquerda.\n",
    "\n",
    "5. Se precisar, role a barra de rolagem veritical para baixo, no painel à direita, você verá a opção `Auto-recompile documents on changes` (`Auto-recompilar`). Marque a caixa ao lado de `Auto-recompile documents on changes` para habilitar essa funcionalidade.\n",
    "\n",
    "Isso deve ativar o `Auto-recompile documents on changes` no `TeXstudio`, garantindo que suas alterações sejam compiladas automaticamente após as alterações. Lembre-se de clicar em `\"OK\"` para confirmar as alterações e fechar a janela de configurações.\n"
   ]
  },
  {
   "cell_type": "markdown",
   "metadata": {
    "vscode": {
     "languageId": "plaintext"
    }
   },
   "source": [
    "## 5. Habilitar o `Show Whitespace` no `TeXstudio`\n",
    "\n",
    "1. Abra o ``TeXstudio``.\n",
    "\n",
    "2. Vá para o menu `Options` (`Opções`) no topo da janela.\n",
    "\n",
    "3. Selecione `Configure TeXstudio...` (`Configurar TeXstudio...`).\n",
    "\n",
    "4. Clique na janela de configurações, clique em `Adv. Editor` (`Editor Avançcado`) na barra lateral esquerda.\n",
    "\n",
    "5. Se precisar, role a barra de rolagem veritical para baixo, no painel à direita, você verá a opção `Show Whitespace` (`Mostrar Espaço em Branco`). Marque a caixa ao lado de `Auto-recompile documents on changes` para habilitar essa funcionalidade.\n",
    "\n",
    "Isso deve ativar o `Auto-recompile documents on changes` no `TeXstudio`, garantindo que suas alterações sejam compiladas automaticamente após as alterações. Lembre-se de clicar em `OK` para confirmar as alterações e fechar a janela de configurações.\n"
   ]
  },
  {
   "cell_type": "markdown",
   "metadata": {
    "vscode": {
     "languageId": "plaintext"
    }
   },
   "source": [
    "## 5. Erros\n",
    "\n",
    "### `sudo dpkg configure -a`\n",
    "\n",
    "Para resolver o problema abaixo:\n",
    "\n",
    "```bash\n",
    "sudo dpkg --configure -a\n",
    "Setting up context (2021.03.05.20220211-1) ...\n",
    "Running mtxrun --generate. This may take some time... done.\n",
    "Pregenerating ConTeXt MarkIV format. This may take some time... \n",
    "```\n",
    "\n",
    "1. Aperte `Enter` mais de uma vez depois de executar o comando `sudo dpkg configure -a` ou `Ctrl+C`\n"
   ]
  },
  {
   "cell_type": "markdown",
   "metadata": {
    "vscode": {
     "languageId": "plaintext"
    }
   },
   "source": [
    "## 6. Alterar/Configurar o `Terminal Emulator` no `TeXstudio`\n",
    "\n",
    "Na seção de configuração do `Terminal Emulator` interno do `TeXstudio`. Nesta tela, você pode definir várias configurações para o `Terminal Emulator` integrado que é usado dentro do próprio `TeXstudio`. Vou explicar o que cada uma dessas opções faz e como você pode configurá-las:\n",
    "\n",
    "### 6.1 Explicação das opções\n",
    "\n",
    "1. **`Color Scheme` (`Esquema de cores`)**: Define o esquema de cores usado no `Terminal Emulator` interno. No seu caso, está definido como `\"Linux\"`. Você pode escolher outra opção se preferir um esquema de cores diferente, por exemplo: `Tango`\n",
    "\n",
    "2. **`Font Family` (`Família de fontes`)**: Escolhe a fonte que será usada no `Terminal Emulator`. Atualmente está definido como `\"DejaVu Sans Mono\"`, que é uma escolha comum para terminais devido à sua legibilidade. Você pode escolher outra opção se preferir uma família de fontes diferente, por exemplo: `Fira Code`\n",
    "\n",
    "3. **`Font Size` (`Tamanho da fonte`)**: Define o tamanho da fonte usada no `Terminal Emulator` interno. No seu caso, está definido como `9`. Você pode aumentar ou diminuir conforme sua preferência para melhorar a legibilidade, por exemplo: `9`\n",
    "\n",
    "4. **`Shell`**: Este campo define qual `shell` será usado no `Terminal Emulator` interno do `TeXstudio`. No seu caso, está configurado para usar o `zsh` (`/bin/zsh`). Se você preferir usar o `bash`, por exemplo, você pode mudar este campo para `/bin/bash`.\n"
   ]
  },
  {
   "cell_type": "markdown",
   "metadata": {
    "vscode": {
     "languageId": "plaintext"
    }
   },
   "source": [
    "## 7. Alterar o `Line wrapping` no `TeXstudio`\n",
    "\n",
    "Para alterar o `Line wrapping` no ``TeXstudio``, siga os passos abaixo:\n",
    "\n",
    "1. Abra o ``TeXstudio``.\n",
    "\n",
    "2. Vá para o menu `Options` (`Opções`) no topo da janela.\n",
    "\n",
    "3. Selecione `Configure TeXstudio...` (`Configurar TeXstudio...`).\n",
    "\n",
    "4. Clique na janela de configurações, clique em `Show Advanced Options` (`Mostrar Opções Avançadas`) na canto inferior esquerdo.\n",
    "\n",
    "5. Clique na janela de configurações, clique em `Adv. Editor` (`Editor Avançado`) na barra lateral esquerda.\n",
    "\n",
    "6. Se precisar, role a barra de rolagem veritical para baixo, no painel à direita, você verá a opção `Line wrapping` (Quebra de linha).\n",
    "\n",
    "7. Selecione na caixa ao lado uma das opções abaixo para alterar essa funcionalidade.\n",
    "\n",
    "    -**Sem Line Wrap (Sem quebra de linha)**: Códigos ou textos onde você deseja manter as linhas contínuas, sem quebras automáticas, e prefere controlar manualmente onde as linhas devem ser interrompidas.\n",
    "\n",
    "    -**Soft Line Wrap at Window Edge (Quebra de linha suave na borda da janela)**: Quebra a linha apenas na interface visual do editor, mas não insere quebras de linha reais no arquivo. Isso é útil para manter a formatação original do arquivo intacta, mas facilita a visualização quando uma linha é muito longa.\n",
    "\n",
    "    -**Soft Line Wrap after max. Characters (Quebra de linha após um número fixo de caracteres)**: A opção faz com que as linhas de texto ou código no editor sejam visualmente quebradas após atingirem um determinado número de caracteres, mas sem inserir uma quebra de linha real no arquivo.\n",
    "\n",
    "    -**Hard Line Wrap (Quebra de linha rígida) após um número fixo de caracteres**: A linha será visualmente quebrada ao alcançar a borda da janela do editor. Se você redimensionar a janela, a linha será reformatada de acordo com o novo tamanho da janela.\n",
    "\n",
    "Isso deve alterar o `Line wrapping` no `TeXstudio`, garantindo que suas alterações sejam salvas automaticamente em intervalos regulares. Lembre-se de clicar em `OK` para confirmar as alterações e fechar a janela de configurações.\n"
   ]
  },
  {
   "cell_type": "markdown",
   "metadata": {
    "vscode": {
     "languageId": "plaintext"
    }
   },
   "source": [
    "## 8. Habilitar a exibição dos números de linha (`Show Line Numbers`)\n",
    "\n",
    "Para habilitar a exibição dos números de linha (`Show Line Numbers`) no `TeXstudio`, siga os passos abaixo:\n",
    "\n",
    "1. Abra o TeXstudio.\n",
    "\n",
    "2. No menu superior, vá até `Options` (`Opções`).\n",
    "\n",
    "3. Selecione `Configure TeXstudio` (`Configurar TeXstudio`).\n",
    "\n",
    "4. No painel à esquerda, clique em `Editor`.\n",
    "\n",
    "5. No lado direito, procure a opção `Show Line Numbers` (`Exibir Números de Linha`).\n",
    "\n",
    "6. Marque a caixa ao lado dessa opção para habilitar os números de linha.\n",
    "\n",
    "7. Clique em `OK` ou `Apply` para salvar as configurações.\n",
    "\n",
    "Agora os números de linha devem aparecer no lado esquerdo do editor, facilitando a navegação e o acompanhamento do código.\n"
   ]
  },
  {
   "cell_type": "markdown",
   "metadata": {
    "vscode": {
     "languageId": "plaintext"
    }
   },
   "source": [
    "## 9. Compilar o Arquivo Ativo Definindo-o como Documento Raiz\n",
    "\n",
    "Aqui está o passo a passo para compilar apenas o arquivo ativo no `TeXstudio`, definindo-o como o Documento Raiz:\n",
    "\n",
    "1. **Certifique-se de que o arquivo que deseja compilar está ativo**: O arquivo que você quer compilar deve estar aberto e visível no editor. Isso significa que é o arquivo que você está editando no momento.\n",
    "\n",
    "2. **Acesse o Menu de Opções**: No menu superior do `TeXstudio`, clique em `Options` (`Opções`).\n",
    "\n",
    "3. **Selecione o Documento Raiz**: No menu suspenso, vá até a opção `Root Document` (`Documento Raiz`).\n",
    "\n",
    "4. **Defina o Documento Ativo como Raiz Explícita**: No submenu, selecione a opção `Set Current Document As Explicit Root` (`Definir Documento Atual como Raiz Explícita`).\n",
    "\n",
    "5. **Compilar o Documento**: Agora, ao compilar o documento (pressionando `F5` ou clicando no botão de `Compilar & Visualizar`), somente o arquivo ativo será compilado, mesmo que ele seja parte de um projeto maior.\n",
    "\n",
    "Este procedimento assegura que o `TeXstudio` irá compilar apenas o documento ativo e ignorar outros arquivos, exceto se houver referências explícitas dentro do arquivo que você está compilando.\n"
   ]
  },
  {
   "cell_type": "markdown",
   "metadata": {
    "vscode": {
     "languageId": "plaintext"
    }
   },
   "source": [
    "## 10. Gerar a Lista de Nomenclaturas (variáveis)\n",
    "\n",
    "Para que a sua lista de nomenclaturas seja efetivamente gerada e apareça no `main_<nome_do_projeto>.pdf` você precisa:\n",
    "\n",
    "1. **Carregar o pacote e declarar a nomenclatura**: No preâmbulo do seu `main_<nome_do_projeto>.tex` inclua algo como:\n",
    "\n",
    "  ```latex\n",
    "  % no preâmbulo do main.tex\n",
    "  \\usepackage[intoc]{nomencl}   % intoc = adiciona ao sumário\n",
    "  \\makenomenclature            % gera a lista\n",
    "  ```\n",
    "  Se você já usa `\\input{preamble.tex}`, coloque essas duas linhas lá.\n",
    "\n",
    "2. **Inserir o comando de impressão**: No ponto onde você quer que apareça a lista (normalmente logo após o sumário), coloque:\n",
    "\n",
    "  ```latex\n",
    "  \\printnomenclature\n",
    "  ```\n",
    "\n",
    "3. **Limpe os arquivos auxiliares (opcional mas recomendado)**:\n",
    "\n",
    "```bash\n",
    "latexmk -C\n",
    "```\n",
    "\n",
    "4. **Compilar na ordem correta**: \n",
    "\n",
    "    Depois de rodar\n",
    "\n",
    "    ```bash\n",
    "    pdflatex -interaction=batchmode main_<nome_do_projeto>.tex\n",
    "    ```\n",
    "\n",
    "    é preciso chamar o `makeindex` para processar a nomenclatura:\n",
    "\n",
    "    ```bash\n",
    "    makeindex `main_<nome_do_projeto>`.nlo -s nomencl.ist -o `main_<nome_do_projeto>`.nls\n",
    "    ```\n",
    "    \n",
    "    e só então rodar novamente:\n",
    "\n",
    "    ```bash\n",
    "    pdflatex -interaction=batchmode main_<nome_do_projeto>.tex\n",
    "    pdflatex -interaction=batchmode main_<nome_do_projeto>.tex  % uma segunda vez garante referências corretas\n",
    "    ```\n",
    "\n",
    "Pronto — agora, repetindo o passo de `makeindex`, a sua lista deve aparecer em `main_<nome_do_projeto>.pdf`."
   ]
  },
  {
   "cell_type": "markdown",
   "metadata": {
    "vscode": {
     "languageId": "plaintext"
    }
   },
   "source": [
    "## 11. Gerar o Índice Remissivo (Index)\n",
    "\n",
    "Para que o índice remissivo (lista de palavras-chave com referência às páginas, como em livros técnicos) apareça corretamente no arquivo `main_<nome_do_projeto>.pdf`, siga os passos abaixo:\n",
    "\n",
    "1. **Carregar o pacote e ativar o índice**: No preâmbulo do seu `main_<nome_do_projeto>.tex` (ou no `preamble.tex`), inclua as seguintes linhas:\n",
    "\n",
    "  ```latex\n",
    "  \\usepackage{makeidx}  % habilita suporte ao índice\n",
    "  \\makeindex            % ativa a criação do arquivo .idx\n",
    "  ```\n",
    "\n",
    "2. **Inserir entradas para o índice**: No corpo do seu texto, marque as palavras ou termos que devem aparecer no índice com o comando:\n",
    "\n",
    "  ```latex\n",
    "  \\index{palavra-chave}\n",
    "  ```\n",
    "\n",
    "  Exemplos:\n",
    "\n",
    "  ```latex\n",
    "  O número de Mach\\index{número de Mach} é fundamental no escoamento compressível.\n",
    "  O programa RPA\\index{RPA} é utilizado para análise de motores foguetes.\n",
    "  ```\n",
    "  \n",
    "  Você também pode usar índices hierárquicos, do tipo:\n",
    "\n",
    "  ```latex\n",
    "  \\index{combustão!pré-misturada}\n",
    "  \\index{combustão!estequiométrica}\n",
    "  ```\n",
    "\n",
    "3. **Inserir o índice no documento**: No ponto onde você deseja que o índice seja impresso (normalmente ao final do documento), adicione:\n",
    "\n",
    "  ```latex\n",
    "  \\cleardoublepage\n",
    "  \\phantomsection\n",
    "  \\addcontentsline{toc}{section}{Índice Remissivo}\n",
    "  \\printindex\n",
    "  ```\n",
    "\n",
    "4. **Limpe os arquivos auxiliares (opcional mas recomendado)**:\n",
    "\n",
    "```bash\n",
    "latexmk -C\n",
    "```\n",
    "\n",
    "5. **Compilar na ordem correta**: Compile o documento usando a seguinte sequência de comandos:\n",
    "\n",
    "  ```bash\n",
    "  pdflatex -interaction=batchmode main_<nome_do_projeto>.tex\n",
    "  makeindex main_<nome_do_projeto>.idx\n",
    "  pdflatex -interaction=batchmode main_<nome_do_projeto>.tex\n",
    "  pdflatex -interaction=batchmode main_<nome_do_projeto>.tex\n",
    "  ```\n",
    "\n",
    "Pronto! Agora, o índice remissivo será gerado e aparecerá corretamente no final do seu `main_<nome_do_projeto>.pdf`.\n",
    "\n",
    "> **Obs.**: Para garantir que o índice apareça no sumário, é importante usar `\\addcontentsline` como mostrado acima. Se estiver usando a classe `book` ou `abntex2`, o comando pode ser adaptado para `\\chapter*{Índice Remissivo}` ou `\\section*{Índice Remissivo}`, conforme a estrutura do documento."
   ]
  },
  {
   "cell_type": "markdown",
   "metadata": {
    "vscode": {
     "languageId": "plaintext"
    }
   },
   "source": [
    "## 12. Como compilar\n",
    "\n",
    "1. **Limpe os arquivos auxiliares (opcional mas recomendado)**:\n",
    "\n",
    "```bash\n",
    "latexmk -C\n",
    "```\n",
    "\n",
    "2. Para que as citações apareçam corretamente, o documento precisa ser\n",
    "compilado executando o `BibTeX`. A maneira recomendada é utilizar o\n",
    "`latexmk`, que automatiza todo o processo:\n",
    "\n",
    "```bash\n",
    "latexmk -pdf -silent main_<nome_do_projeto>.tex\n",
    "```\n",
    "\n",
    "Se desejar chamar cada etapa manualmente, use a sequência abaixo:\n",
    "\n",
    "```bash\n",
    "pdflatex -interaction=batchmode main_<nome_do_projeto>.tex\n",
    "bibtex main_<nome_do_projeto>\n",
    "pdflatex -interaction=batchmode main_<nome_do_projeto>.tex\n",
    "pdflatex -interaction=batchmode main_<nome_do_projeto>.tex\n",
    "```\n",
    "\n",
    "Isso garantirá que comandos como `\\cite{Linnaeus1758}` produzam a\n",
    "referência adequada no PDF final."
   ]
  },
  {
   "cell_type": "markdown",
   "metadata": {
    "vscode": {
     "languageId": "plaintext"
    }
   },
   "source": [
    "## Referências\n",
    "\n",
    "[1] OPENAI. ***Ativar autosave no `texstudio`.*** Disponível em: <https://chat.openai.com/c/210ca6d2-7da5-4830-890a-b8e1cb0ee7ee> (texto adaptado). ChatGPT. Acessado em: 27/11/2023 10:44.\n",
    "\n",
    "[2] OPENAI. ***Vs code: editor popular.*** Disponível em: <https://chat.openai.com/c/b640a25d-f8e3-4922-8a3b-ed74a2657e42> (texto adaptado). ChatGPT. Acessado em: 14/11/2023 18:56.\n",
    "\n",
    "[3] USER: CHANDRA HAS. ***Texstudio auto-compilation/live preview feature (latex tips)/solution-51.*** Disponível em: <https://www.youtube.com/watch?v=hO1LmNtKg1w> (texto adaptado). YouTube. Acessado em: 18/01/2024 08:46.\n"
   ]
  }
 ],
 "metadata": {
  "kernelspec": {
   "display_name": "Python 3",
   "language": "python",
   "name": "python3"
  },
  "language_info": {
   "codemirror_mode": {
    "name": "ipython",
    "version": 3
   },
   "file_extension": ".py",
   "mimetype": "text/x-python",
   "name": "python",
   "nbconvert_exporter": "python",
   "pygments_lexer": "ipython3",
   "version": "3.11.5"
  },
  "orig_nbformat": 4
 },
 "nbformat": 4,
 "nbformat_minor": 2
}
